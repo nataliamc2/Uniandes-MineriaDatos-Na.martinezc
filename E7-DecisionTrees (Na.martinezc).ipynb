{
 "cells": [
  {
   "cell_type": "markdown",
   "metadata": {},
   "source": [
    "# Exercise 7\n",
    "\n",
    "# Capital Bikeshare data"
   ]
  },
  {
   "cell_type": "markdown",
   "metadata": {},
   "source": [
    "## Introduction\n",
    "\n",
    "- Capital Bikeshare dataset from Kaggle: [data](https://github.com/justmarkham/DAT8/blob/master/data/bikeshare.csv), [data dictionary](https://www.kaggle.com/c/bike-sharing-demand/data)\n",
    "- Each observation represents the bikeshare rentals initiated during a given hour of a given day"
   ]
  },
  {
   "cell_type": "code",
   "execution_count": 2,
   "metadata": {},
   "outputs": [],
   "source": [
    "%matplotlib inline\n",
    "import pandas as pd\n",
    "import numpy as np\n",
    "from sklearn.model_selection import cross_val_score\n",
    "from sklearn.linear_model import LinearRegression\n",
    "from sklearn.tree import DecisionTreeRegressor, export_graphviz"
   ]
  },
  {
   "cell_type": "code",
   "execution_count": 3,
   "metadata": {},
   "outputs": [],
   "source": [
    "# read the data and set \"datetime\" as the index\n",
    "url = 'https://raw.githubusercontent.com/justmarkham/DAT8/master/data/bikeshare.csv'\n",
    "bikes = pd.read_csv(url, index_col='datetime', parse_dates=True)"
   ]
  },
  {
   "cell_type": "code",
   "execution_count": 4,
   "metadata": {},
   "outputs": [],
   "source": [
    "# \"count\" is a method, so it's best to rename that column\n",
    "bikes.rename(columns={'count':'total'}, inplace=True)"
   ]
  },
  {
   "cell_type": "code",
   "execution_count": 5,
   "metadata": {},
   "outputs": [],
   "source": [
    "# create \"hour\" as its own feature\n",
    "bikes['hour'] = bikes.index.hour"
   ]
  },
  {
   "cell_type": "code",
   "execution_count": 6,
   "metadata": {},
   "outputs": [
    {
     "data": {
      "text/html": [
       "<div>\n",
       "<style scoped>\n",
       "    .dataframe tbody tr th:only-of-type {\n",
       "        vertical-align: middle;\n",
       "    }\n",
       "\n",
       "    .dataframe tbody tr th {\n",
       "        vertical-align: top;\n",
       "    }\n",
       "\n",
       "    .dataframe thead th {\n",
       "        text-align: right;\n",
       "    }\n",
       "</style>\n",
       "<table border=\"1\" class=\"dataframe\">\n",
       "  <thead>\n",
       "    <tr style=\"text-align: right;\">\n",
       "      <th></th>\n",
       "      <th>season</th>\n",
       "      <th>holiday</th>\n",
       "      <th>workingday</th>\n",
       "      <th>weather</th>\n",
       "      <th>temp</th>\n",
       "      <th>atemp</th>\n",
       "      <th>humidity</th>\n",
       "      <th>windspeed</th>\n",
       "      <th>casual</th>\n",
       "      <th>registered</th>\n",
       "      <th>total</th>\n",
       "      <th>hour</th>\n",
       "    </tr>\n",
       "    <tr>\n",
       "      <th>datetime</th>\n",
       "      <th></th>\n",
       "      <th></th>\n",
       "      <th></th>\n",
       "      <th></th>\n",
       "      <th></th>\n",
       "      <th></th>\n",
       "      <th></th>\n",
       "      <th></th>\n",
       "      <th></th>\n",
       "      <th></th>\n",
       "      <th></th>\n",
       "      <th></th>\n",
       "    </tr>\n",
       "  </thead>\n",
       "  <tbody>\n",
       "    <tr>\n",
       "      <th>2011-01-01 00:00:00</th>\n",
       "      <td>1</td>\n",
       "      <td>0</td>\n",
       "      <td>0</td>\n",
       "      <td>1</td>\n",
       "      <td>9.84</td>\n",
       "      <td>14.395</td>\n",
       "      <td>81</td>\n",
       "      <td>0.0</td>\n",
       "      <td>3</td>\n",
       "      <td>13</td>\n",
       "      <td>16</td>\n",
       "      <td>0</td>\n",
       "    </tr>\n",
       "    <tr>\n",
       "      <th>2011-01-01 01:00:00</th>\n",
       "      <td>1</td>\n",
       "      <td>0</td>\n",
       "      <td>0</td>\n",
       "      <td>1</td>\n",
       "      <td>9.02</td>\n",
       "      <td>13.635</td>\n",
       "      <td>80</td>\n",
       "      <td>0.0</td>\n",
       "      <td>8</td>\n",
       "      <td>32</td>\n",
       "      <td>40</td>\n",
       "      <td>1</td>\n",
       "    </tr>\n",
       "    <tr>\n",
       "      <th>2011-01-01 02:00:00</th>\n",
       "      <td>1</td>\n",
       "      <td>0</td>\n",
       "      <td>0</td>\n",
       "      <td>1</td>\n",
       "      <td>9.02</td>\n",
       "      <td>13.635</td>\n",
       "      <td>80</td>\n",
       "      <td>0.0</td>\n",
       "      <td>5</td>\n",
       "      <td>27</td>\n",
       "      <td>32</td>\n",
       "      <td>2</td>\n",
       "    </tr>\n",
       "    <tr>\n",
       "      <th>2011-01-01 03:00:00</th>\n",
       "      <td>1</td>\n",
       "      <td>0</td>\n",
       "      <td>0</td>\n",
       "      <td>1</td>\n",
       "      <td>9.84</td>\n",
       "      <td>14.395</td>\n",
       "      <td>75</td>\n",
       "      <td>0.0</td>\n",
       "      <td>3</td>\n",
       "      <td>10</td>\n",
       "      <td>13</td>\n",
       "      <td>3</td>\n",
       "    </tr>\n",
       "    <tr>\n",
       "      <th>2011-01-01 04:00:00</th>\n",
       "      <td>1</td>\n",
       "      <td>0</td>\n",
       "      <td>0</td>\n",
       "      <td>1</td>\n",
       "      <td>9.84</td>\n",
       "      <td>14.395</td>\n",
       "      <td>75</td>\n",
       "      <td>0.0</td>\n",
       "      <td>0</td>\n",
       "      <td>1</td>\n",
       "      <td>1</td>\n",
       "      <td>4</td>\n",
       "    </tr>\n",
       "  </tbody>\n",
       "</table>\n",
       "</div>"
      ],
      "text/plain": [
       "                     season  holiday  workingday  weather  temp   atemp  \\\n",
       "datetime                                                                  \n",
       "2011-01-01 00:00:00       1        0           0        1  9.84  14.395   \n",
       "2011-01-01 01:00:00       1        0           0        1  9.02  13.635   \n",
       "2011-01-01 02:00:00       1        0           0        1  9.02  13.635   \n",
       "2011-01-01 03:00:00       1        0           0        1  9.84  14.395   \n",
       "2011-01-01 04:00:00       1        0           0        1  9.84  14.395   \n",
       "\n",
       "                     humidity  windspeed  casual  registered  total  hour  \n",
       "datetime                                                                   \n",
       "2011-01-01 00:00:00        81        0.0       3          13     16     0  \n",
       "2011-01-01 01:00:00        80        0.0       8          32     40     1  \n",
       "2011-01-01 02:00:00        80        0.0       5          27     32     2  \n",
       "2011-01-01 03:00:00        75        0.0       3          10     13     3  \n",
       "2011-01-01 04:00:00        75        0.0       0           1      1     4  "
      ]
     },
     "execution_count": 6,
     "metadata": {},
     "output_type": "execute_result"
    }
   ],
   "source": [
    "bikes.head()"
   ]
  },
  {
   "cell_type": "code",
   "execution_count": 7,
   "metadata": {},
   "outputs": [
    {
     "data": {
      "text/html": [
       "<div>\n",
       "<style scoped>\n",
       "    .dataframe tbody tr th:only-of-type {\n",
       "        vertical-align: middle;\n",
       "    }\n",
       "\n",
       "    .dataframe tbody tr th {\n",
       "        vertical-align: top;\n",
       "    }\n",
       "\n",
       "    .dataframe thead th {\n",
       "        text-align: right;\n",
       "    }\n",
       "</style>\n",
       "<table border=\"1\" class=\"dataframe\">\n",
       "  <thead>\n",
       "    <tr style=\"text-align: right;\">\n",
       "      <th></th>\n",
       "      <th>season</th>\n",
       "      <th>holiday</th>\n",
       "      <th>workingday</th>\n",
       "      <th>weather</th>\n",
       "      <th>temp</th>\n",
       "      <th>atemp</th>\n",
       "      <th>humidity</th>\n",
       "      <th>windspeed</th>\n",
       "      <th>casual</th>\n",
       "      <th>registered</th>\n",
       "      <th>total</th>\n",
       "      <th>hour</th>\n",
       "    </tr>\n",
       "    <tr>\n",
       "      <th>datetime</th>\n",
       "      <th></th>\n",
       "      <th></th>\n",
       "      <th></th>\n",
       "      <th></th>\n",
       "      <th></th>\n",
       "      <th></th>\n",
       "      <th></th>\n",
       "      <th></th>\n",
       "      <th></th>\n",
       "      <th></th>\n",
       "      <th></th>\n",
       "      <th></th>\n",
       "    </tr>\n",
       "  </thead>\n",
       "  <tbody>\n",
       "    <tr>\n",
       "      <th>2012-12-19 19:00:00</th>\n",
       "      <td>4</td>\n",
       "      <td>0</td>\n",
       "      <td>1</td>\n",
       "      <td>1</td>\n",
       "      <td>15.58</td>\n",
       "      <td>19.695</td>\n",
       "      <td>50</td>\n",
       "      <td>26.0027</td>\n",
       "      <td>7</td>\n",
       "      <td>329</td>\n",
       "      <td>336</td>\n",
       "      <td>19</td>\n",
       "    </tr>\n",
       "    <tr>\n",
       "      <th>2012-12-19 20:00:00</th>\n",
       "      <td>4</td>\n",
       "      <td>0</td>\n",
       "      <td>1</td>\n",
       "      <td>1</td>\n",
       "      <td>14.76</td>\n",
       "      <td>17.425</td>\n",
       "      <td>57</td>\n",
       "      <td>15.0013</td>\n",
       "      <td>10</td>\n",
       "      <td>231</td>\n",
       "      <td>241</td>\n",
       "      <td>20</td>\n",
       "    </tr>\n",
       "    <tr>\n",
       "      <th>2012-12-19 21:00:00</th>\n",
       "      <td>4</td>\n",
       "      <td>0</td>\n",
       "      <td>1</td>\n",
       "      <td>1</td>\n",
       "      <td>13.94</td>\n",
       "      <td>15.910</td>\n",
       "      <td>61</td>\n",
       "      <td>15.0013</td>\n",
       "      <td>4</td>\n",
       "      <td>164</td>\n",
       "      <td>168</td>\n",
       "      <td>21</td>\n",
       "    </tr>\n",
       "    <tr>\n",
       "      <th>2012-12-19 22:00:00</th>\n",
       "      <td>4</td>\n",
       "      <td>0</td>\n",
       "      <td>1</td>\n",
       "      <td>1</td>\n",
       "      <td>13.94</td>\n",
       "      <td>17.425</td>\n",
       "      <td>61</td>\n",
       "      <td>6.0032</td>\n",
       "      <td>12</td>\n",
       "      <td>117</td>\n",
       "      <td>129</td>\n",
       "      <td>22</td>\n",
       "    </tr>\n",
       "    <tr>\n",
       "      <th>2012-12-19 23:00:00</th>\n",
       "      <td>4</td>\n",
       "      <td>0</td>\n",
       "      <td>1</td>\n",
       "      <td>1</td>\n",
       "      <td>13.12</td>\n",
       "      <td>16.665</td>\n",
       "      <td>66</td>\n",
       "      <td>8.9981</td>\n",
       "      <td>4</td>\n",
       "      <td>84</td>\n",
       "      <td>88</td>\n",
       "      <td>23</td>\n",
       "    </tr>\n",
       "  </tbody>\n",
       "</table>\n",
       "</div>"
      ],
      "text/plain": [
       "                     season  holiday  workingday  weather   temp   atemp  \\\n",
       "datetime                                                                   \n",
       "2012-12-19 19:00:00       4        0           1        1  15.58  19.695   \n",
       "2012-12-19 20:00:00       4        0           1        1  14.76  17.425   \n",
       "2012-12-19 21:00:00       4        0           1        1  13.94  15.910   \n",
       "2012-12-19 22:00:00       4        0           1        1  13.94  17.425   \n",
       "2012-12-19 23:00:00       4        0           1        1  13.12  16.665   \n",
       "\n",
       "                     humidity  windspeed  casual  registered  total  hour  \n",
       "datetime                                                                   \n",
       "2012-12-19 19:00:00        50    26.0027       7         329    336    19  \n",
       "2012-12-19 20:00:00        57    15.0013      10         231    241    20  \n",
       "2012-12-19 21:00:00        61    15.0013       4         164    168    21  \n",
       "2012-12-19 22:00:00        61     6.0032      12         117    129    22  \n",
       "2012-12-19 23:00:00        66     8.9981       4          84     88    23  "
      ]
     },
     "execution_count": 7,
     "metadata": {},
     "output_type": "execute_result"
    }
   ],
   "source": [
    "bikes.tail()"
   ]
  },
  {
   "cell_type": "markdown",
   "metadata": {},
   "source": [
    "- **hour** ranges from 0 (midnight) through 23 (11pm)\n",
    "- **workingday** is either 0 (weekend or holiday) or 1 (non-holiday weekday)"
   ]
  },
  {
   "cell_type": "markdown",
   "metadata": {},
   "source": [
    "# Exercise 7.1\n",
    "\n",
    "Run these two `groupby` statements and figure out what they tell you about the data."
   ]
  },
  {
   "cell_type": "code",
   "execution_count": 8,
   "metadata": {},
   "outputs": [
    {
     "data": {
      "text/plain": [
       "workingday\n",
       "0    188.506621\n",
       "1    193.011873\n",
       "Name: total, dtype: float64"
      ]
     },
     "execution_count": 8,
     "metadata": {},
     "output_type": "execute_result"
    }
   ],
   "source": [
    "# mean rentals for each value of \"workingday\"\n",
    "bikes.groupby('workingday').total.mean()"
   ]
  },
  {
   "cell_type": "markdown",
   "metadata": {},
   "source": [
    "Este Groupby nos muestra la media de bicicletas rentadas teniendo en cuenta si son días hábiles o no hábiles. Esto nos permite ver que en los días hábiles se alquilan en promedio 7 bicicletas más que los domingos o festivos."
   ]
  },
  {
   "cell_type": "code",
   "execution_count": 9,
   "metadata": {},
   "outputs": [
    {
     "data": {
      "text/plain": [
       "hour\n",
       "0      55.138462\n",
       "1      33.859031\n",
       "2      22.899554\n",
       "3      11.757506\n",
       "4       6.407240\n",
       "5      19.767699\n",
       "6      76.259341\n",
       "7     213.116484\n",
       "8     362.769231\n",
       "9     221.780220\n",
       "10    175.092308\n",
       "11    210.674725\n",
       "12    256.508772\n",
       "13    257.787281\n",
       "14    243.442982\n",
       "15    254.298246\n",
       "16    316.372807\n",
       "17    468.765351\n",
       "18    430.859649\n",
       "19    315.278509\n",
       "20    228.517544\n",
       "21    173.370614\n",
       "22    133.576754\n",
       "23     89.508772\n",
       "Name: total, dtype: float64"
      ]
     },
     "execution_count": 9,
     "metadata": {},
     "output_type": "execute_result"
    }
   ],
   "source": [
    "# mean rentals for each value of \"hour\"\n",
    "bikes.groupby('hour').total.mean()"
   ]
  },
  {
   "cell_type": "markdown",
   "metadata": {},
   "source": [
    "Este Groupby nos muestra la media de bicicletas rentadas teniendo en cuenta la hora de renta. Esto nos permite ver que las horas de mayor venta son las 8 de la mañana y 5 de la tarde. Teniendo en cuenta que anteriormente habiamos visto que se alquilan más los días hábiles, es posible establecer la hipotesis que las personas rentan las bicicletas para transportarse al trabajo o hacer diligencias en el transcurso del día."
   ]
  },
  {
   "cell_type": "markdown",
   "metadata": {},
   "source": [
    "# Exercise 7.2\n",
    "\n",
    "Run this plotting code, and make sure you understand the output. Then, separate this plot into two separate plots conditioned on \"workingday\". (In other words, one plot should display the hourly trend for \"workingday=0\", and the other should display the hourly trend for \"workingday=1\".)"
   ]
  },
  {
   "cell_type": "code",
   "execution_count": 10,
   "metadata": {},
   "outputs": [
    {
     "data": {
      "text/plain": [
       "<matplotlib.axes._subplots.AxesSubplot at 0x223580dfac8>"
      ]
     },
     "execution_count": 10,
     "metadata": {},
     "output_type": "execute_result"
    },
    {
     "data": {
      "image/png": "[encoded data removed]",
      "text/plain": [
       "<Figure size 432x288 with 1 Axes>"
      ]
     },
     "metadata": {
      "needs_background": "light"
     },
     "output_type": "display_data"
    }
   ],
   "source": [
    "# mean rentals for each value of \"hour\"\n",
    "bikes.groupby('hour').total.mean().plot()"
   ]
  },
  {
   "cell_type": "markdown",
   "metadata": {},
   "source": [
    "Plot for workingday == 0 and workingday == 1"
   ]
  },
  {
   "cell_type": "code",
   "execution_count": 11,
   "metadata": {},
   "outputs": [
    {
     "data": {
      "text/plain": [
       "<matplotlib.axes._subplots.AxesSubplot at 0x22357fbb710>"
      ]
     },
     "execution_count": 11,
     "metadata": {},
     "output_type": "execute_result"
    },
    {
     "data": {
      "image/png": "[encoded data removed]",
      "text/plain": [
       "<Figure size 432x288 with 1 Axes>"
      ]
     },
     "metadata": {
      "needs_background": "light"
     },
     "output_type": "display_data"
    }
   ],
   "source": [
    "# hourly rental trend for \"workingday=0\"\n",
    "bikes[bikes.workingday==0].groupby('hour').total.mean().plot()"
   ]
  },
  {
   "cell_type": "code",
   "execution_count": 12,
   "metadata": {},
   "outputs": [
    {
     "data": {
      "text/plain": [
       "<matplotlib.axes._subplots.AxesSubplot at 0x223580122e8>"
      ]
     },
     "execution_count": 12,
     "metadata": {},
     "output_type": "execute_result"
    },
    {
     "data": {
      "image/png": "[encoded data removed]",
      "text/plain": [
       "<Figure size 432x288 with 1 Axes>"
      ]
     },
     "metadata": {
      "needs_background": "light"
     },
     "output_type": "display_data"
    }
   ],
   "source": [
    "# hourly rental trend for \"workingday=1\"\n",
    "bikes[bikes.workingday==1].groupby('hour').total.mean().plot()"
   ]
  },
  {
   "cell_type": "code",
   "execution_count": 13,
   "metadata": {},
   "outputs": [
    {
     "data": {
      "text/plain": [
       "<matplotlib.axes._subplots.AxesSubplot at 0x22357f836d8>"
      ]
     },
     "execution_count": 13,
     "metadata": {},
     "output_type": "execute_result"
    },
    {
     "data": {
      "image/png": "[encoded data removed]",
      "text/plain": [
       "<Figure size 432x288 with 1 Axes>"
      ]
     },
     "metadata": {
      "needs_background": "light"
     },
     "output_type": "display_data"
    }
   ],
   "source": [
    "# combine the two plots\n",
    "bikes.groupby(['hour', 'workingday']).total.mean().unstack().plot()"
   ]
  },
  {
   "cell_type": "markdown",
   "metadata": {},
   "source": [
    "Write about your findings"
   ]
  },
  {
   "cell_type": "markdown",
   "metadata": {},
   "source": [
    "Con estos gráficos es posible ver que la tasa de alquiler de bicicletas por horas dependen del tipo de día ya que tal vez esto infiere en el tipo de uso que se le da a este medio de transporte, es decir, los días hábiles el pico de ventas son a las 8 am y 6 pm. es decir, estas se usan para transportarse al trabajo o diligecias diarias, mientras que los fines de semana o festivos el pico de ventas es alrededor de las 12 pm, por lo cual se infiere que el uso es más recreativo."
   ]
  },
  {
   "cell_type": "markdown",
   "metadata": {},
   "source": [
    "# Exercise 7.3\n",
    "\n",
    "Fit a linear regression model to the entire dataset, using \"total\" as the response and \"hour\" and \"workingday\" as the only features. Then, print the coefficients and interpret them. What are the limitations of linear regression in this instance?"
   ]
  },
  {
   "cell_type": "code",
   "execution_count": 14,
   "metadata": {},
   "outputs": [],
   "source": [
    "from sklearn.linear_model import LinearRegression\n",
    "from sklearn.model_selection import train_test_split"
   ]
  },
  {
   "cell_type": "code",
   "execution_count": 15,
   "metadata": {},
   "outputs": [],
   "source": [
    "X_lin = bikes[['hour','workingday']]\n",
    "Y_lin = bikes['total']"
   ]
  },
  {
   "cell_type": "code",
   "execution_count": 16,
   "metadata": {},
   "outputs": [],
   "source": [
    "x_train, x_test, y_train, y_test = train_test_split(X_lin, Y_lin, random_state=1)"
   ]
  },
  {
   "cell_type": "code",
   "execution_count": 17,
   "metadata": {},
   "outputs": [],
   "source": [
    "linreg = LinearRegression()"
   ]
  },
  {
   "cell_type": "code",
   "execution_count": 18,
   "metadata": {},
   "outputs": [
    {
     "data": {
      "text/plain": [
       "LinearRegression(copy_X=True, fit_intercept=True, n_jobs=None,\n",
       "         normalize=False)"
      ]
     },
     "execution_count": 18,
     "metadata": {},
     "output_type": "execute_result"
    }
   ],
   "source": [
    "linreg.fit(x_train,y_train)"
   ]
  },
  {
   "cell_type": "code",
   "execution_count": 19,
   "metadata": {},
   "outputs": [
    {
     "data": {
      "text/plain": [
       "array([10.49362402,  5.20940956])"
      ]
     },
     "execution_count": 19,
     "metadata": {},
     "output_type": "execute_result"
    }
   ],
   "source": [
    "linreg.coef_"
   ]
  },
  {
   "cell_type": "markdown",
   "metadata": {},
   "source": [
    "# Exercice 7.4\n",
    "\n",
    "Create a Decision Tree to forecast \"total\" by manually iterating over the features \"hour\" and \"workingday\". The algorithm must at least have 6 end nodes."
   ]
  },
  {
   "cell_type": "code",
   "execution_count": 20,
   "metadata": {},
   "outputs": [
    {
     "data": {
      "text/html": [
       "<div>\n",
       "<style scoped>\n",
       "    .dataframe tbody tr th:only-of-type {\n",
       "        vertical-align: middle;\n",
       "    }\n",
       "\n",
       "    .dataframe tbody tr th {\n",
       "        vertical-align: top;\n",
       "    }\n",
       "\n",
       "    .dataframe thead th {\n",
       "        text-align: right;\n",
       "    }\n",
       "</style>\n",
       "<table border=\"1\" class=\"dataframe\">\n",
       "  <thead>\n",
       "    <tr style=\"text-align: right;\">\n",
       "      <th></th>\n",
       "      <th>season</th>\n",
       "      <th>holiday</th>\n",
       "      <th>workingday</th>\n",
       "      <th>weather</th>\n",
       "      <th>temp</th>\n",
       "      <th>atemp</th>\n",
       "      <th>humidity</th>\n",
       "      <th>windspeed</th>\n",
       "      <th>casual</th>\n",
       "      <th>registered</th>\n",
       "      <th>total</th>\n",
       "      <th>hour</th>\n",
       "      <th>prediction</th>\n",
       "    </tr>\n",
       "    <tr>\n",
       "      <th>datetime</th>\n",
       "      <th></th>\n",
       "      <th></th>\n",
       "      <th></th>\n",
       "      <th></th>\n",
       "      <th></th>\n",
       "      <th></th>\n",
       "      <th></th>\n",
       "      <th></th>\n",
       "      <th></th>\n",
       "      <th></th>\n",
       "      <th></th>\n",
       "      <th></th>\n",
       "      <th></th>\n",
       "    </tr>\n",
       "  </thead>\n",
       "  <tbody>\n",
       "    <tr>\n",
       "      <th>2011-01-01 00:00:00</th>\n",
       "      <td>1</td>\n",
       "      <td>0</td>\n",
       "      <td>0</td>\n",
       "      <td>1</td>\n",
       "      <td>9.84</td>\n",
       "      <td>14.395</td>\n",
       "      <td>81</td>\n",
       "      <td>0.0000</td>\n",
       "      <td>3</td>\n",
       "      <td>13</td>\n",
       "      <td>16</td>\n",
       "      <td>0</td>\n",
       "      <td>191.574132</td>\n",
       "    </tr>\n",
       "    <tr>\n",
       "      <th>2011-01-01 01:00:00</th>\n",
       "      <td>1</td>\n",
       "      <td>0</td>\n",
       "      <td>0</td>\n",
       "      <td>1</td>\n",
       "      <td>9.02</td>\n",
       "      <td>13.635</td>\n",
       "      <td>80</td>\n",
       "      <td>0.0000</td>\n",
       "      <td>8</td>\n",
       "      <td>32</td>\n",
       "      <td>40</td>\n",
       "      <td>1</td>\n",
       "      <td>191.574132</td>\n",
       "    </tr>\n",
       "    <tr>\n",
       "      <th>2011-01-01 02:00:00</th>\n",
       "      <td>1</td>\n",
       "      <td>0</td>\n",
       "      <td>0</td>\n",
       "      <td>1</td>\n",
       "      <td>9.02</td>\n",
       "      <td>13.635</td>\n",
       "      <td>80</td>\n",
       "      <td>0.0000</td>\n",
       "      <td>5</td>\n",
       "      <td>27</td>\n",
       "      <td>32</td>\n",
       "      <td>2</td>\n",
       "      <td>191.574132</td>\n",
       "    </tr>\n",
       "    <tr>\n",
       "      <th>2011-01-01 03:00:00</th>\n",
       "      <td>1</td>\n",
       "      <td>0</td>\n",
       "      <td>0</td>\n",
       "      <td>1</td>\n",
       "      <td>9.84</td>\n",
       "      <td>14.395</td>\n",
       "      <td>75</td>\n",
       "      <td>0.0000</td>\n",
       "      <td>3</td>\n",
       "      <td>10</td>\n",
       "      <td>13</td>\n",
       "      <td>3</td>\n",
       "      <td>191.574132</td>\n",
       "    </tr>\n",
       "    <tr>\n",
       "      <th>2011-01-01 04:00:00</th>\n",
       "      <td>1</td>\n",
       "      <td>0</td>\n",
       "      <td>0</td>\n",
       "      <td>1</td>\n",
       "      <td>9.84</td>\n",
       "      <td>14.395</td>\n",
       "      <td>75</td>\n",
       "      <td>0.0000</td>\n",
       "      <td>0</td>\n",
       "      <td>1</td>\n",
       "      <td>1</td>\n",
       "      <td>4</td>\n",
       "      <td>191.574132</td>\n",
       "    </tr>\n",
       "    <tr>\n",
       "      <th>2011-01-01 05:00:00</th>\n",
       "      <td>1</td>\n",
       "      <td>0</td>\n",
       "      <td>0</td>\n",
       "      <td>2</td>\n",
       "      <td>9.84</td>\n",
       "      <td>12.880</td>\n",
       "      <td>75</td>\n",
       "      <td>6.0032</td>\n",
       "      <td>0</td>\n",
       "      <td>1</td>\n",
       "      <td>1</td>\n",
       "      <td>5</td>\n",
       "      <td>191.574132</td>\n",
       "    </tr>\n",
       "    <tr>\n",
       "      <th>2011-01-01 06:00:00</th>\n",
       "      <td>1</td>\n",
       "      <td>0</td>\n",
       "      <td>0</td>\n",
       "      <td>1</td>\n",
       "      <td>9.02</td>\n",
       "      <td>13.635</td>\n",
       "      <td>80</td>\n",
       "      <td>0.0000</td>\n",
       "      <td>2</td>\n",
       "      <td>0</td>\n",
       "      <td>2</td>\n",
       "      <td>6</td>\n",
       "      <td>191.574132</td>\n",
       "    </tr>\n",
       "    <tr>\n",
       "      <th>2011-01-01 07:00:00</th>\n",
       "      <td>1</td>\n",
       "      <td>0</td>\n",
       "      <td>0</td>\n",
       "      <td>1</td>\n",
       "      <td>8.20</td>\n",
       "      <td>12.880</td>\n",
       "      <td>86</td>\n",
       "      <td>0.0000</td>\n",
       "      <td>1</td>\n",
       "      <td>2</td>\n",
       "      <td>3</td>\n",
       "      <td>7</td>\n",
       "      <td>191.574132</td>\n",
       "    </tr>\n",
       "    <tr>\n",
       "      <th>2011-01-01 08:00:00</th>\n",
       "      <td>1</td>\n",
       "      <td>0</td>\n",
       "      <td>0</td>\n",
       "      <td>1</td>\n",
       "      <td>9.84</td>\n",
       "      <td>14.395</td>\n",
       "      <td>75</td>\n",
       "      <td>0.0000</td>\n",
       "      <td>1</td>\n",
       "      <td>7</td>\n",
       "      <td>8</td>\n",
       "      <td>8</td>\n",
       "      <td>191.574132</td>\n",
       "    </tr>\n",
       "    <tr>\n",
       "      <th>2011-01-01 09:00:00</th>\n",
       "      <td>1</td>\n",
       "      <td>0</td>\n",
       "      <td>0</td>\n",
       "      <td>1</td>\n",
       "      <td>13.12</td>\n",
       "      <td>17.425</td>\n",
       "      <td>76</td>\n",
       "      <td>0.0000</td>\n",
       "      <td>8</td>\n",
       "      <td>6</td>\n",
       "      <td>14</td>\n",
       "      <td>9</td>\n",
       "      <td>191.574132</td>\n",
       "    </tr>\n",
       "  </tbody>\n",
       "</table>\n",
       "</div>"
      ],
      "text/plain": [
       "                     season  holiday  workingday  weather   temp   atemp  \\\n",
       "datetime                                                                   \n",
       "2011-01-01 00:00:00       1        0           0        1   9.84  14.395   \n",
       "2011-01-01 01:00:00       1        0           0        1   9.02  13.635   \n",
       "2011-01-01 02:00:00       1        0           0        1   9.02  13.635   \n",
       "2011-01-01 03:00:00       1        0           0        1   9.84  14.395   \n",
       "2011-01-01 04:00:00       1        0           0        1   9.84  14.395   \n",
       "2011-01-01 05:00:00       1        0           0        2   9.84  12.880   \n",
       "2011-01-01 06:00:00       1        0           0        1   9.02  13.635   \n",
       "2011-01-01 07:00:00       1        0           0        1   8.20  12.880   \n",
       "2011-01-01 08:00:00       1        0           0        1   9.84  14.395   \n",
       "2011-01-01 09:00:00       1        0           0        1  13.12  17.425   \n",
       "\n",
       "                     humidity  windspeed  casual  registered  total  hour  \\\n",
       "datetime                                                                    \n",
       "2011-01-01 00:00:00        81     0.0000       3          13     16     0   \n",
       "2011-01-01 01:00:00        80     0.0000       8          32     40     1   \n",
       "2011-01-01 02:00:00        80     0.0000       5          27     32     2   \n",
       "2011-01-01 03:00:00        75     0.0000       3          10     13     3   \n",
       "2011-01-01 04:00:00        75     0.0000       0           1      1     4   \n",
       "2011-01-01 05:00:00        75     6.0032       0           1      1     5   \n",
       "2011-01-01 06:00:00        80     0.0000       2           0      2     6   \n",
       "2011-01-01 07:00:00        86     0.0000       1           2      3     7   \n",
       "2011-01-01 08:00:00        75     0.0000       1           7      8     8   \n",
       "2011-01-01 09:00:00        76     0.0000       8           6     14     9   \n",
       "\n",
       "                     prediction  \n",
       "datetime                         \n",
       "2011-01-01 00:00:00  191.574132  \n",
       "2011-01-01 01:00:00  191.574132  \n",
       "2011-01-01 02:00:00  191.574132  \n",
       "2011-01-01 03:00:00  191.574132  \n",
       "2011-01-01 04:00:00  191.574132  \n",
       "2011-01-01 05:00:00  191.574132  \n",
       "2011-01-01 06:00:00  191.574132  \n",
       "2011-01-01 07:00:00  191.574132  \n",
       "2011-01-01 08:00:00  191.574132  \n",
       "2011-01-01 09:00:00  191.574132  "
      ]
     },
     "execution_count": 20,
     "metadata": {},
     "output_type": "execute_result"
    }
   ],
   "source": [
    "bikes['prediction'] = bikes.total.mean()\n",
    "bikes.head(10)"
   ]
  },
  {
   "cell_type": "code",
   "execution_count": 21,
   "metadata": {},
   "outputs": [
    {
     "name": "stdout",
     "output_type": "stream",
     "text": [
      "0 181.13613357426559\n",
      "1 178.88076030483188\n",
      "2 175.61266024769844\n",
      "3 171.5350162975495\n",
      "4 166.57596568309665\n",
      "5 160.50832916137819\n",
      "6 154.10979930228774\n",
      "7 150.22560060405686\n",
      "8 153.86972728404965\n",
      "9 163.39221989024873\n",
      "10 165.25615391972227\n",
      "11 165.00286510437286\n",
      "12 165.84659205524616\n",
      "13 168.04756019190663\n",
      "14 169.94604099621912\n",
      "15 171.14521362143498\n",
      "16 172.47403631919644\n",
      "17 175.2235068708682\n",
      "18 179.8668827954335\n",
      "19 181.12705316323988\n",
      "20 180.44126246625746\n",
      "21 179.7297936918192\n",
      "22 179.51222338944388\n"
     ]
    }
   ],
   "source": [
    "for hour in range (0,23):\n",
    "    \n",
    "    bikes['pred'] = bikes.loc[bikes.hour<hour, 'total'].mean()\n",
    "    \n",
    "    bikes.loc[bikes.hour>=hour,'pred'] = bikes.loc[bikes.hour>=hour, 'total'].mean()\n",
    "\n",
    "    print(hour,(((bikes['total'] - bikes['pred'])**2).mean()) ** 0.5)"
   ]
  },
  {
   "cell_type": "code",
   "execution_count": 22,
   "metadata": {},
   "outputs": [],
   "source": [
    "bikes_izq = bikes.loc[bikes.hour<7].copy()"
   ]
  },
  {
   "cell_type": "code",
   "execution_count": 23,
   "metadata": {},
   "outputs": [
    {
     "data": {
      "text/plain": [
       "array([0, 1, 2, 3, 4, 5, 6], dtype=int64)"
      ]
     },
     "execution_count": 23,
     "metadata": {},
     "output_type": "execute_result"
    }
   ],
   "source": [
    "bikes_izq.hour.unique()"
   ]
  },
  {
   "cell_type": "code",
   "execution_count": 24,
   "metadata": {},
   "outputs": [],
   "source": [
    "def error_hour(bikes, hour):\n",
    "    bikes['pred'] = bikes.loc[bikes.hour <hour, 'total'].mean()\n",
    "    bikes.loc[bikes.hour>=hour, 'pred'] = bikes.loc[bikes.hour>=hour, 'total'].mean()\n",
    "    print ((((bikes['total'] - bikes['pred'])**2).mean()) ** 0.5)"
   ]
  },
  {
   "cell_type": "code",
   "execution_count": 25,
   "metadata": {},
   "outputs": [],
   "source": [
    "def error_workingday(bikes, workingday):\n",
    "    bikes['pred'] = bikes.loc[bikes.workingday == workingday, 'total'].mean()\n",
    "    bikes.loc[bikes.workingday==workingday, 'total'] = bikes.loc[bikes.workingday==workingday, 'total'].mean()\n",
    "    print ((((bikes['total'] - bikes['pred'])**2).mean()) ** 0.5)"
   ]
  },
  {
   "cell_type": "code",
   "execution_count": 26,
   "metadata": {},
   "outputs": [
    {
     "name": "stdout",
     "output_type": "stream",
     "text": [
      "Hour  0\n",
      "39.56714516247788\n",
      "Hour  1\n",
      "38.46175887834954\n",
      "Hour  2\n",
      "38.827302356307555\n",
      "Hour  3\n",
      "39.34538405588436\n",
      "Hour  4\n",
      "39.534113157382144\n",
      "Hour  5\n",
      "38.30948200125475\n",
      "Hour  6\n",
      "35.24426946227024\n"
     ]
    }
   ],
   "source": [
    "for hour in bikes_izq.hour.unique():\n",
    "    print('Hour ',hour)\n",
    "    error_hour(bikes_izq, hour)"
   ]
  },
  {
   "cell_type": "code",
   "execution_count": 27,
   "metadata": {},
   "outputs": [
    {
     "data": {
      "text/plain": [
       "count    3139.000000\n",
       "mean        0.678560\n",
       "std         0.467104\n",
       "min         0.000000\n",
       "25%         0.000000\n",
       "50%         1.000000\n",
       "75%         1.000000\n",
       "max         1.000000\n",
       "Name: workingday, dtype: float64"
      ]
     },
     "execution_count": 27,
     "metadata": {},
     "output_type": "execute_result"
    }
   ],
   "source": [
    "bikes_izq.workingday.describe()"
   ]
  },
  {
   "cell_type": "code",
   "execution_count": 28,
   "metadata": {},
   "outputs": [
    {
     "name": "stdout",
     "output_type": "stream",
     "text": [
      "Working day  1\n",
      "23.793802057851984\n",
      "Working day  0\n",
      "9.727028050540563\n"
     ]
    }
   ],
   "source": [
    "for workingday in [1,0]:\n",
    "    print('Working day ',workingday)\n",
    "    error_workingday(bikes_izq, workingday)"
   ]
  },
  {
   "cell_type": "code",
   "execution_count": 29,
   "metadata": {},
   "outputs": [
    {
     "name": "stdout",
     "output_type": "stream",
     "text": [
      "Hour  7\n",
      "176.28835016242152\n",
      "Hour  8\n",
      "175.9626543129351\n",
      "Hour  9\n",
      "175.9026463917815\n",
      "Hour  10\n",
      "176.22897287604295\n",
      "Hour  11\n",
      "176.1454556323947\n",
      "Hour  12\n",
      "175.84813796801208\n",
      "Hour  13\n",
      "175.89260116453647\n",
      "Hour  14\n",
      "175.92916682007098\n",
      "Hour  15\n",
      "175.83965773793437\n",
      "Hour  16\n",
      "175.82530141788737\n",
      "Hour  17\n",
      "176.19523832330185\n",
      "Hour  18\n",
      "175.115249088561\n",
      "Hour  19\n",
      "170.74027110094912\n",
      "Hour  20\n",
      "167.37168785994314\n",
      "Hour  21\n",
      "166.69864069956597\n",
      "Hour  22\n",
      "168.20616961120874\n",
      "Hour  23\n",
      "171.30096203191567\n",
      "----------------------------------\n",
      "Working day  1\n",
      "96.62149535113792\n",
      "Working day  0\n",
      "8.410215671382272\n"
     ]
    }
   ],
   "source": [
    "bikes_der = bikes.loc[bikes.hour>=7].copy()\n",
    "\n",
    "for hour in bikes_der.hour.unique():\n",
    "    print('Hour ',hour)\n",
    "    error_hour(bikes_der, hour)\n",
    "print('----------------------------------')\n",
    "for workingday in [1,0]:\n",
    "    print('Working day ',workingday)\n",
    "    error_workingday(bikes_der, workingday)"
   ]
  },
  {
   "cell_type": "markdown",
   "metadata": {},
   "source": [
    "## First Node"
   ]
  },
  {
   "cell_type": "code",
   "execution_count": 40,
   "metadata": {},
   "outputs": [
    {
     "name": "stdout",
     "output_type": "stream",
     "text": [
      "Hour  0\n",
      "4.973799150320701e-14\n",
      "Hour  1\n",
      "4.973799150320701e-14\n",
      "Hour  2\n",
      "4.973799150320701e-14\n",
      "Hour  3\n",
      "4.973799150320701e-14\n",
      "Hour  4\n",
      "4.973799150320701e-14\n",
      "Hour  5\n",
      "4.973799150320701e-14\n",
      "Hour  6\n",
      "4.973799150320701e-14\n",
      "----------------------------------\n",
      "Working day  1\n",
      "nan\n",
      "Working day  0\n",
      "0.0\n"
     ]
    }
   ],
   "source": [
    "bikes_izq_izq = bikes_izq.loc[bikes_izq.workingday==0].copy()\n",
    "\n",
    "for hour in bikes_izq_izq.hour.unique():\n",
    "    print('Hour ',hour)\n",
    "    error_hour(bikes_izq_izq, hour)\n",
    "print('----------------------------------')\n",
    "for workingday in [1,0]:\n",
    "    print('Working day ',workingday)\n",
    "    error_workingday(bikes_izq_izq, workingday)"
   ]
  },
  {
   "cell_type": "markdown",
   "metadata": {},
   "source": [
    "Giving continuity to the analysis"
   ]
  },
  {
   "cell_type": "code",
   "execution_count": 31,
   "metadata": {},
   "outputs": [
    {
     "name": "stdout",
     "output_type": "stream",
     "text": [
      "Hour  0\n",
      "9.094947017729282e-13\n",
      "Hour  1\n",
      "7.739682226511052e-13\n",
      "Hour  4\n",
      "4.720658586079215e-13\n",
      "Hour  5\n",
      "6.166462879447689e-13\n",
      "Hour  6\n",
      "7.739682226511052e-13\n",
      "Hour  2\n",
      "6.171650834648166e-13\n",
      "Hour  3\n",
      "4.685320426564897e-13\n",
      "----------------------------------\n",
      "Working day  1\n",
      "0.0\n",
      "Working day  0\n",
      "nan\n"
     ]
    }
   ],
   "source": [
    "bikes_izq_der = bikes_izq.loc[bikes_izq.workingday==1].copy()\n",
    "\n",
    "for hour in bikes_izq_der.hour.unique():\n",
    "    print('Hour ',hour)\n",
    "    error_hour(bikes_izq_der, hour)\n",
    "print('----------------------------------')\n",
    "for workingday in [1,0]:\n",
    "    print('Working day ',workingday)\n",
    "    error_workingday(bikes_izq_der, workingday)"
   ]
  },
  {
   "cell_type": "markdown",
   "metadata": {},
   "source": [
    "## Second Node"
   ]
  },
  {
   "cell_type": "code",
   "execution_count": 32,
   "metadata": {},
   "outputs": [
    {
     "name": "stdout",
     "output_type": "stream",
     "text": [
      "Hour  0\n",
      "2.4513724383723456e-13\n",
      "Hour  1\n",
      "1.5004463862005815e-13\n",
      "Hour  2\n",
      "1.560938301981418e-13\n",
      "----------------------------------\n",
      "Working day  1\n",
      "0.0\n",
      "Working day  0\n",
      "nan\n"
     ]
    }
   ],
   "source": [
    "bikes_izq_der_izq = bikes_izq_der.loc[bikes_izq.hour < 3].copy()\n",
    "\n",
    "for hour in bikes_izq_der_izq.hour.unique():\n",
    "    print('Hour ',hour)\n",
    "    error_hour(bikes_izq_der_izq, hour)\n",
    "print('----------------------------------')\n",
    "for workingday in [1,0]:\n",
    "    print('Working day ',workingday)\n",
    "    error_workingday(bikes_izq_der_izq, workingday)"
   ]
  },
  {
   "cell_type": "markdown",
   "metadata": {},
   "source": [
    "## Third Node"
   ]
  },
  {
   "cell_type": "code",
   "execution_count": 33,
   "metadata": {},
   "outputs": [
    {
     "name": "stdout",
     "output_type": "stream",
     "text": [
      "Hour  0\n",
      "2.948752353404416e-13\n",
      "Hour  1\n",
      "2.948752353404416e-13\n",
      "Hour  2\n",
      "2.948752353404416e-13\n",
      "----------------------------------\n",
      "Working day  1\n",
      "0.0\n",
      "Working day  0\n",
      "nan\n"
     ]
    }
   ],
   "source": [
    "bikes_izq_der_der = bikes_izq_der.loc[bikes_izq.hour >=3].copy()\n",
    "\n",
    "for hour in bikes_izq_der_izq.hour.unique():\n",
    "    print('Hour ',hour)\n",
    "    error_hour(bikes_izq_der_der, hour)\n",
    "print('----------------------------------')\n",
    "for workingday in [1,0]:\n",
    "    print('Working day ',workingday)\n",
    "    error_workingday(bikes_izq_der_der, workingday)"
   ]
  },
  {
   "cell_type": "markdown",
   "metadata": {},
   "source": [
    "Continue the analysis now by the upper right node"
   ]
  },
  {
   "cell_type": "code",
   "execution_count": 34,
   "metadata": {},
   "outputs": [
    {
     "name": "stdout",
     "output_type": "stream",
     "text": [
      "Hour  7\n",
      "9.379164112033322e-13\n",
      "Hour  8\n",
      "1.9589039145927664e-12\n",
      "Hour  9\n",
      "5.0233121916912995e-12\n",
      "Hour  10\n",
      "6.386828587452924e-12\n",
      "Hour  11\n",
      "5.947172537483279e-12\n",
      "Hour  12\n",
      "5.531278224450998e-12\n",
      "Hour  13\n",
      "5.2843162368725464e-12\n",
      "Hour  14\n",
      "5.127782734943928e-12\n",
      "Hour  15\n",
      "5.042793783498174e-12\n",
      "Hour  16\n",
      "5.042793783498174e-12\n",
      "Hour  17\n",
      "5.127782734943928e-12\n",
      "Hour  18\n",
      "5.2843162368725464e-12\n",
      "Hour  19\n",
      "5.531278224450998e-12\n",
      "Hour  20\n",
      "5.947172537483279e-12\n",
      "Hour  21\n",
      "6.386828587452924e-12\n",
      "Hour  22\n",
      "5.0233121916912995e-12\n",
      "Hour  23\n",
      "1.9589039145927664e-12\n",
      "----------------------------------\n",
      "Working day  1\n",
      "nan\n",
      "Working day  0\n",
      "0.0\n"
     ]
    }
   ],
   "source": [
    "bikes_der_izq = bikes_der.loc[bikes_der.workingday==0].copy()\n",
    "\n",
    "for hour in bikes_der_izq.hour.unique():\n",
    "    print('Hour ',hour)\n",
    "    error_hour(bikes_der_izq, hour)\n",
    "print('----------------------------------')\n",
    "for workingday in [1,0]:\n",
    "    print('Working day ',workingday)\n",
    "    error_workingday(bikes_der_izq, workingday)"
   ]
  },
  {
   "cell_type": "code",
   "execution_count": 35,
   "metadata": {},
   "outputs": [
    {
     "name": "stdout",
     "output_type": "stream",
     "text": [
      "Hour  7\n",
      "1.3358203432289883e-11\n",
      "Hour  8\n",
      "7.83278355847345e-12\n",
      "Hour  9\n",
      "2.0139415475529585e-12\n",
      "Hour  10\n",
      "4.6504151115477995e-12\n",
      "Hour  11\n",
      "1.0992785956025867e-11\n",
      "Hour  12\n",
      "1.0280431308726188e-11\n",
      "Hour  13\n",
      "9.849126814201641e-12\n",
      "Hour  14\n",
      "9.601197023844333e-12\n",
      "Hour  15\n",
      "9.455270509499096e-12\n",
      "Hour  16\n",
      "9.479413903108771e-12\n",
      "Hour  17\n",
      "9.598263968008561e-12\n",
      "Hour  18\n",
      "9.856136055177946e-12\n",
      "Hour  19\n",
      "1.0279549114958014e-11\n",
      "Hour  20\n",
      "1.0986701880817082e-11\n",
      "Hour  21\n",
      "4.707009005489036e-12\n",
      "Hour  22\n",
      "1.961294381289782e-12\n",
      "Hour  23\n",
      "7.832000849542934e-12\n",
      "----------------------------------\n",
      "Working day  1\n",
      "0.0\n",
      "Working day  0\n",
      "nan\n"
     ]
    }
   ],
   "source": [
    "bikes_der_der = bikes_der.loc[bikes_der.workingday==1].copy()\n",
    "\n",
    "for hour in bikes_der_der.hour.unique():\n",
    "    print('Hour ',hour)\n",
    "    error_hour(bikes_der_der, hour)\n",
    "print('----------------------------------')\n",
    "for workingday in [1,0]:\n",
    "    print('Working day ',workingday)\n",
    "    error_workingday(bikes_der_der, workingday)"
   ]
  },
  {
   "cell_type": "markdown",
   "metadata": {},
   "source": [
    "## Fourth Node"
   ]
  },
  {
   "cell_type": "code",
   "execution_count": 36,
   "metadata": {},
   "outputs": [
    {
     "name": "stdout",
     "output_type": "stream",
     "text": [
      "Hour  7\n",
      "2.5579538487363607e-13\n",
      "----------------------------------\n",
      "Working day  1\n",
      "nan\n",
      "Working day  0\n",
      "0.0\n"
     ]
    }
   ],
   "source": [
    "bikes_der_izq_izq = bikes_der_izq.loc[bikes_der_izq.hour < 8].copy()\n",
    "\n",
    "for hour in bikes_der_izq_izq.hour.unique():\n",
    "    print('Hour ',hour)\n",
    "    error_hour(bikes_der_izq_izq, hour)\n",
    "print('----------------------------------')\n",
    "for workingday in [1,0]:\n",
    "    print('Working day ',workingday)\n",
    "    error_workingday(bikes_der_izq_izq, workingday)"
   ]
  },
  {
   "cell_type": "markdown",
   "metadata": {},
   "source": [
    "## Fifth Node"
   ]
  },
  {
   "cell_type": "code",
   "execution_count": 37,
   "metadata": {},
   "outputs": [
    {
     "name": "stdout",
     "output_type": "stream",
     "text": [
      "Hour  8\n",
      "2.5579538487363607e-12\n",
      "Hour  9\n",
      "5.6693162527709785e-12\n",
      "Hour  10\n",
      "7.023519963330231e-12\n",
      "Hour  11\n",
      "6.565476396986689e-12\n",
      "Hour  12\n",
      "5.995498806233233e-12\n",
      "Hour  13\n",
      "5.432079464643214e-12\n",
      "Hour  14\n",
      "5.075006412657657e-12\n",
      "Hour  15\n",
      "4.873763815865506e-12\n",
      "Hour  16\n",
      "4.803268893738277e-12\n",
      "Hour  17\n",
      "4.873763815865506e-12\n",
      "Hour  18\n",
      "5.075006412657657e-12\n",
      "Hour  19\n",
      "5.432079464643214e-12\n",
      "Hour  20\n",
      "5.995498806233233e-12\n",
      "Hour  21\n",
      "6.565476396986689e-12\n",
      "Hour  22\n",
      "7.023519963330231e-12\n",
      "Hour  23\n",
      "5.6693162527709785e-12\n",
      "----------------------------------\n",
      "Working day  1\n",
      "nan\n",
      "Working day  0\n",
      "0.0\n"
     ]
    }
   ],
   "source": [
    "bikes_der_izq_der = bikes_der_izq.loc[bikes_der_izq.hour >= 8].copy()\n",
    "\n",
    "for hour in bikes_der_izq_der.hour.unique():\n",
    "    print('Hour ',hour)\n",
    "    error_hour(bikes_der_izq_der, hour)\n",
    "print('----------------------------------')\n",
    "for workingday in [1,0]:\n",
    "    print('Working day ',workingday)\n",
    "    error_workingday(bikes_der_izq_der, workingday)"
   ]
  },
  {
   "cell_type": "markdown",
   "metadata": {},
   "source": [
    "## Sixth Node"
   ]
  },
  {
   "cell_type": "code",
   "execution_count": 38,
   "metadata": {},
   "outputs": [
    {
     "name": "stdout",
     "output_type": "stream",
     "text": [
      "Hour  7\n",
      "7.73070496506989e-12\n",
      "Hour  8\n",
      "2.818080927752541e-12\n",
      "Hour  9\n",
      "2.1288600301559544e-12\n",
      "Hour  10\n",
      "2.1288600301559544e-12\n",
      "Hour  11\n",
      "2.818080927752541e-12\n",
      "----------------------------------\n",
      "Working day  1\n",
      "0.0\n",
      "Working day  0\n",
      "nan\n"
     ]
    }
   ],
   "source": [
    "bikes_der_der_izq = bikes_der_der.loc[bikes_der_der.hour < 12].copy()\n",
    "\n",
    "for hour in bikes_der_der_izq.hour.unique():\n",
    "    print('Hour ',hour)\n",
    "    error_hour(bikes_der_der_izq, hour)\n",
    "print('----------------------------------')\n",
    "for workingday in [1,0]:\n",
    "    print('Working day ',workingday)\n",
    "    error_workingday(bikes_der_der_izq, workingday)"
   ]
  },
  {
   "cell_type": "markdown",
   "metadata": {},
   "source": [
    "## Seventh Node"
   ]
  },
  {
   "cell_type": "code",
   "execution_count": 39,
   "metadata": {},
   "outputs": [
    {
     "name": "stdout",
     "output_type": "stream",
     "text": [
      "Hour  12\n",
      "7.958078640513122e-12\n",
      "Hour  13\n",
      "5.5663272737340205e-12\n",
      "Hour  14\n",
      "3.017255955248905e-12\n",
      "Hour  15\n",
      "1.1084466677857563e-12\n",
      "Hour  16\n",
      "3.676118584317872e-12\n",
      "Hour  17\n",
      "8.539324552755246e-12\n",
      "Hour  18\n",
      "1.0913936421275139e-11\n",
      "Hour  19\n",
      "8.539324552755246e-12\n",
      "Hour  20\n",
      "3.676118584317872e-12\n",
      "Hour  21\n",
      "1.1084466677857563e-12\n",
      "Hour  22\n",
      "3.017255955248905e-12\n",
      "Hour  23\n",
      "5.5663272737340205e-12\n",
      "----------------------------------\n",
      "Working day  1\n",
      "0.0\n",
      "Working day  0\n",
      "nan\n"
     ]
    }
   ],
   "source": [
    "bikes_der_der_der = bikes_der_der.loc[bikes_der_der.hour >= 12].copy()\n",
    "\n",
    "for hour in bikes_der_der_der.hour.unique():\n",
    "    print('Hour ',hour)\n",
    "    error_hour(bikes_der_der_der, hour)\n",
    "print('----------------------------------')\n",
    "for workingday in [1,0]:\n",
    "    print('Working day ',workingday)\n",
    "    error_workingday(bikes_der_der_der, workingday)"
   ]
  },
  {
   "cell_type": "markdown",
   "metadata": {},
   "source": [
    "# Exercise 7.5\n",
    "\n",
    "Train a Decision Tree using scikit-learn. Comment about the performance of the models."
   ]
  },
  {
   "cell_type": "code",
   "execution_count": 71,
   "metadata": {},
   "outputs": [],
   "source": [
    "# define X and y\n",
    "X = bikes[['hour', 'workingday',]]\n",
    "Y = bikes['total']"
   ]
  },
  {
   "cell_type": "code",
   "execution_count": 72,
   "metadata": {},
   "outputs": [
    {
     "data": {
      "text/plain": [
       "DecisionTreeRegressor(criterion='mse', max_depth=6, max_features=None,\n",
       "           max_leaf_nodes=None, min_impurity_decrease=0.0,\n",
       "           min_impurity_split=None, min_samples_leaf=1,\n",
       "           min_samples_split=2, min_weight_fraction_leaf=0.0,\n",
       "           presort=False, random_state=None, splitter='best')"
      ]
     },
     "execution_count": 72,
     "metadata": {},
     "output_type": "execute_result"
    }
   ],
   "source": [
    "# instantiate a DecisionTreeRegressor\n",
    "from sklearn.tree import DecisionTreeRegressor\n",
    "treereg = DecisionTreeRegressor(criterion='mse', max_depth=6)\n",
    "treereg"
   ]
  },
  {
   "cell_type": "code",
   "execution_count": 73,
   "metadata": {},
   "outputs": [
    {
     "data": {
      "text/plain": [
       "106.30130069442295"
      ]
     },
     "execution_count": 73,
     "metadata": {},
     "output_type": "execute_result"
    }
   ],
   "source": [
    "# use leave-one-out cross-validation (LOOCV) to estimate the RMSE for this model\n",
    "scores = cross_val_score(treereg, X, Y, cv=14, scoring='neg_mean_squared_error')\n",
    "np.mean(np.sqrt(-scores))"
   ]
  },
  {
   "cell_type": "code",
   "execution_count": 82,
   "metadata": {},
   "outputs": [],
   "source": [
    "#Tuning a regression tree\n",
    "# list of values to try\n",
    "max_depth_range = range(1, 15)\n",
    "\n",
    "# list to store the average RMSE for each value of max_depth\n",
    "RMSE_scores = []\n",
    "\n",
    "# use LOOCV with each value of max_depth\n",
    "for depth in max_depth_range:\n",
    "    treereg = DecisionTreeRegressor(max_depth=depth, random_state=1)\n",
    "    MSE_scores = cross_val_score(treereg, X, Y, cv=20, scoring='neg_mean_squared_error')\n",
    "    RMSE_scores.append(np.mean(np.sqrt(-MSE_scores)))"
   ]
  },
  {
   "cell_type": "code",
   "execution_count": 83,
   "metadata": {},
   "outputs": [
    {
     "data": {
      "text/plain": [
       "Text(0, 0.5, 'RMSE (lower is better)')"
      ]
     },
     "execution_count": 83,
     "metadata": {},
     "output_type": "execute_result"
    },
    {
     "data": {
      "image/png": "[encoded data removed]",
      "text/plain": [
       "<Figure size 432x288 with 1 Axes>"
      ]
     },
     "metadata": {
      "needs_background": "light"
     },
     "output_type": "display_data"
    }
   ],
   "source": [
    "%matplotlib inline\n",
    "import matplotlib.pyplot as plt\n",
    "# plot max_depth (x-axis) versus RMSE (y-axis)\n",
    "plt.plot(max_depth_range, RMSE_scores)\n",
    "plt.xlabel('max_depth')\n",
    "plt.ylabel('RMSE (lower is better)')"
   ]
  },
  {
   "cell_type": "code",
   "execution_count": 88,
   "metadata": {},
   "outputs": [
    {
     "data": {
      "text/html": [
       "<div>\n",
       "<style scoped>\n",
       "    .dataframe tbody tr th:only-of-type {\n",
       "        vertical-align: middle;\n",
       "    }\n",
       "\n",
       "    .dataframe tbody tr th {\n",
       "        vertical-align: top;\n",
       "    }\n",
       "\n",
       "    .dataframe thead th {\n",
       "        text-align: right;\n",
       "    }\n",
       "</style>\n",
       "<table border=\"1\" class=\"dataframe\">\n",
       "  <thead>\n",
       "    <tr style=\"text-align: right;\">\n",
       "      <th></th>\n",
       "      <th>feature</th>\n",
       "      <th>importance</th>\n",
       "    </tr>\n",
       "  </thead>\n",
       "  <tbody>\n",
       "    <tr>\n",
       "      <th>0</th>\n",
       "      <td>(h, o, u, r)</td>\n",
       "      <td>0.81505</td>\n",
       "    </tr>\n",
       "    <tr>\n",
       "      <th>1</th>\n",
       "      <td>(w, o, r, k, i, n, g, d, a, y)</td>\n",
       "      <td>0.18495</td>\n",
       "    </tr>\n",
       "  </tbody>\n",
       "</table>\n",
       "</div>"
      ],
      "text/plain": [
       "                          feature  importance\n",
       "0                    (h, o, u, r)     0.81505\n",
       "1  (w, o, r, k, i, n, g, d, a, y)     0.18495"
      ]
     },
     "execution_count": 88,
     "metadata": {},
     "output_type": "execute_result"
    }
   ],
   "source": [
    "#We can see that max_depth=6 was best so now we'll see the \"Gini importance\" of each feature: the (normalized) total reduction of error brought by that feature\n",
    "pd.DataFrame({'feature':X, 'importance':treereg.feature_importances_})"
   ]
  },
  {
   "cell_type": "code",
   "execution_count": 143,
   "metadata": {},
   "outputs": [],
   "source": [
    "#Trying with more variables\n",
    "# define X and y\n",
    "X1 = bikes[['hour', 'workingday','weather','season']]\n",
    "Y1 = bikes['total']"
   ]
  },
  {
   "cell_type": "code",
   "execution_count": 144,
   "metadata": {},
   "outputs": [
    {
     "data": {
      "text/plain": [
       "DecisionTreeRegressor(criterion='mse', max_depth=6, max_features=None,\n",
       "           max_leaf_nodes=None, min_impurity_decrease=0.0,\n",
       "           min_impurity_split=None, min_samples_leaf=1,\n",
       "           min_samples_split=2, min_weight_fraction_leaf=0.0,\n",
       "           presort=False, random_state=None, splitter='best')"
      ]
     },
     "execution_count": 144,
     "metadata": {},
     "output_type": "execute_result"
    }
   ],
   "source": [
    "treereg= DecisionTreeRegressor(criterion='mse', max_depth=6)\n",
    "treereg"
   ]
  },
  {
   "cell_type": "code",
   "execution_count": 145,
   "metadata": {},
   "outputs": [
    {
     "data": {
      "text/plain": [
       "120.97829738806982"
      ]
     },
     "execution_count": 145,
     "metadata": {},
     "output_type": "execute_result"
    }
   ],
   "source": [
    "# use leave-one-out cross-validation (LOOCV) to estimate the RMSE for this model\n",
    "scores = cross_val_score(treereg, X1, Y1, cv=14, scoring='neg_mean_squared_error')\n",
    "np.mean(np.sqrt(-scores))"
   ]
  },
  {
   "cell_type": "code",
   "execution_count": 146,
   "metadata": {},
   "outputs": [],
   "source": [
    "#Tuning a regression tree\n",
    "# list of values to try\n",
    "max_depth_range = range(1, 15)\n",
    "\n",
    "# list to store the average RMSE for each value of max_depth\n",
    "RMSE_scores = []\n",
    "\n",
    "# use LOOCV with each value of max_depth\n",
    "for depth in max_depth_range:\n",
    "    treereg = DecisionTreeRegressor(max_depth=depth, random_state=1)\n",
    "    MSE_scores = cross_val_score(treereg, X1, Y1, cv=20, scoring='neg_mean_squared_error')\n",
    "    RMSE_scores.append(np.mean(np.sqrt(-MSE_scores)))"
   ]
  },
  {
   "cell_type": "code",
   "execution_count": 147,
   "metadata": {},
   "outputs": [
    {
     "data": {
      "text/plain": [
       "Text(0, 0.5, 'RMSE (lower is better)')"
      ]
     },
     "execution_count": 147,
     "metadata": {},
     "output_type": "execute_result"
    },
    {
     "data": {
      "image/png": "[encoded data removed]",
      "text/plain": [
       "<Figure size 432x288 with 1 Axes>"
      ]
     },
     "metadata": {
      "needs_background": "light"
     },
     "output_type": "display_data"
    }
   ],
   "source": [
    "%matplotlib inline\n",
    "import matplotlib.pyplot as plt\n",
    "# plot max_depth (x-axis) versus RMSE (y-axis)\n",
    "plt.plot(max_depth_range, RMSE_scores)\n",
    "plt.xlabel('max_depth')\n",
    "plt.ylabel('RMSE (lower is better)')"
   ]
  },
  {
   "cell_type": "code",
   "execution_count": 162,
   "metadata": {},
   "outputs": [
    {
     "data": {
      "text/plain": [
       "DecisionTreeRegressor(criterion='mse', max_depth=8, max_features=None,\n",
       "           max_leaf_nodes=None, min_impurity_decrease=0.0,\n",
       "           min_impurity_split=None, min_samples_leaf=1,\n",
       "           min_samples_split=2, min_weight_fraction_leaf=0.0,\n",
       "           presort=False, random_state=1, splitter='best')"
      ]
     },
     "execution_count": 162,
     "metadata": {},
     "output_type": "execute_result"
    }
   ],
   "source": [
    "# max_depth=8 was best, so fit a tree using that parameter\n",
    "treereg = DecisionTreeRegressor(max_depth=8, random_state=1)\n",
    "treereg.fit(X1, Y1)"
   ]
  },
  {
   "cell_type": "code",
   "execution_count": 163,
   "metadata": {},
   "outputs": [
    {
     "data": {
      "text/plain": [
       "94.8447614491142"
      ]
     },
     "execution_count": 163,
     "metadata": {},
     "output_type": "execute_result"
    }
   ],
   "source": [
    "scores = cross_val_score(treereg, X1, Y1, cv=14, scoring='neg_mean_squared_error')\n",
    "np.mean(np.sqrt(-scores))"
   ]
  },
  {
   "cell_type": "code",
   "execution_count": 164,
   "metadata": {},
   "outputs": [
    {
     "data": {
      "text/html": [
       "<div>\n",
       "<style scoped>\n",
       "    .dataframe tbody tr th:only-of-type {\n",
       "        vertical-align: middle;\n",
       "    }\n",
       "\n",
       "    .dataframe tbody tr th {\n",
       "        vertical-align: top;\n",
       "    }\n",
       "\n",
       "    .dataframe thead th {\n",
       "        text-align: right;\n",
       "    }\n",
       "</style>\n",
       "<table border=\"1\" class=\"dataframe\">\n",
       "  <thead>\n",
       "    <tr style=\"text-align: right;\">\n",
       "      <th></th>\n",
       "      <th>feature</th>\n",
       "      <th>importance</th>\n",
       "    </tr>\n",
       "  </thead>\n",
       "  <tbody>\n",
       "    <tr>\n",
       "      <th>0</th>\n",
       "      <td>(h, o, u, r)</td>\n",
       "      <td>0.698206</td>\n",
       "    </tr>\n",
       "    <tr>\n",
       "      <th>1</th>\n",
       "      <td>(w, o, r, k, i, n, g, d, a, y)</td>\n",
       "      <td>0.163247</td>\n",
       "    </tr>\n",
       "    <tr>\n",
       "      <th>2</th>\n",
       "      <td>(w, e, a, t, h, e, r)</td>\n",
       "      <td>0.035709</td>\n",
       "    </tr>\n",
       "    <tr>\n",
       "      <th>3</th>\n",
       "      <td>(s, e, a, s, o, n)</td>\n",
       "      <td>0.102838</td>\n",
       "    </tr>\n",
       "  </tbody>\n",
       "</table>\n",
       "</div>"
      ],
      "text/plain": [
       "                          feature  importance\n",
       "0                    (h, o, u, r)    0.698206\n",
       "1  (w, o, r, k, i, n, g, d, a, y)    0.163247\n",
       "2           (w, e, a, t, h, e, r)    0.035709\n",
       "3              (s, e, a, s, o, n)    0.102838"
      ]
     },
     "execution_count": 164,
     "metadata": {},
     "output_type": "execute_result"
    }
   ],
   "source": [
    "#Gini Importance\n",
    "pd.DataFrame({'feature':X1, 'importance':treereg.feature_importances_})"
   ]
  },
  {
   "cell_type": "markdown",
   "metadata": {},
   "source": [
    "We can see that with two variables and the correct depth (6) the model give us an error equal to 106,3 keeping in mind the importace of 0,81 of the hour variable.\n",
    "Now, if we include more variables as weather and season with 6 max_depth the model increase the error to 120,9. But if we can tuning the regression tree, we see that the correct depth are 8, so we fit the tree using that parameter with which the model reduces the error to 94.8"
   ]
  }
 ],
 "metadata": {
  "kernelspec": {
   "display_name": "Python 3",
   "language": "python",
   "name": "python3"
  },
  "language_info": {
   "codemirror_mode": {
    "name": "ipython",
    "version": 3
   },
   "file_extension": ".py",
   "mimetype": "text/x-python",
   "name": "python",
   "nbconvert_exporter": "python",
   "pygments_lexer": "ipython3",
   "version": "3.7.1"
  }
 },
 "nbformat": 4,
 "nbformat_minor": 1
}
